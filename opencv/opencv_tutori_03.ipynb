{
 "cells": [
  {
   "cell_type": "code",
   "execution_count": 5,
   "metadata": {
    "collapsed": false
   },
   "outputs": [
    {
     "name": "stdout",
     "output_type": "stream",
     "text": [
      "0.08687976 sec\n"
     ]
    }
   ],
   "source": [
    "#画像処理は時間がかかるので、時間計測のやり方と速いコードを書くためのTIP\n",
    "\n",
    "#opencvの関数で計測する場合\n",
    "#e1 = cv2.getTickCount()\n",
    "#計測したいコード\n",
    "#e2 = cv.getTickCount()\n",
    "#time = (e2 - e1)/cv2.getTickFrequency()\n",
    "#でOK\n",
    "#例えば\n",
    "import cv2\n",
    "import numpy as np\n",
    "\n",
    "\n",
    "img = cv2.imread('./images/lenna.jpg')\n",
    "img1 = img[:, :, 0]\n",
    "e1 = cv2.getTickCount()\n",
    "for i in range(5, 49, 2):\n",
    "    img1 = cv2.medianBlur(img1, i)\n",
    "e2 = cv2.getTickCount()\n",
    "time = (e2 - e1) / cv2.getTickFrequency()\n",
    "print(time, 'sec')"
   ]
  },
  {
   "cell_type": "code",
   "execution_count": 4,
   "metadata": {
    "collapsed": false
   },
   "outputs": [
    {
     "name": "stdout",
     "output_type": "stream",
     "text": [
      "0.07261896133422852 sec\n"
     ]
    }
   ],
   "source": [
    "#time.time()を使ってもよい\n",
    "import time\n",
    "e1 = time.time()\n",
    "for i in range(5, 49, 2):\n",
    "    img1 = cv2.medianBlur(img1, i)\n",
    "e2 = time.time()\n",
    "time = (e2 - e1)\n",
    "print(time, 'sec')#値が割と違うのはOSのタスクの問題か？"
   ]
  },
  {
   "cell_type": "code",
   "execution_count": 6,
   "metadata": {
    "collapsed": false
   },
   "outputs": [
    {
     "name": "stdout",
     "output_type": "stream",
     "text": [
      "True\n",
      "1000 loops, best of 3: 1.63 ms per loop\n",
      "False\n",
      "100 loops, best of 3: 4.31 ms per loop\n"
     ]
    }
   ],
   "source": [
    "cv2.setUseOptimized(True)#最適化する\n",
    "print(cv2.useOptimized())#最適化されているかチェック\n",
    "%timeit res = cv2.medianBlur(img1, 49)\n",
    "cv2.setUseOptimized(False)#ディスエイブル\n",
    "print(cv2.useOptimized())\n",
    "%timeit res = cv2.medianBlur(img1, 49)\n",
    "#速度が倍違う\n",
    "#でもデフォルが最適化だし特に気にする必要なし？"
   ]
  },
  {
   "cell_type": "code",
   "execution_count": 9,
   "metadata": {
    "collapsed": false
   },
   "outputs": [
    {
     "name": "stdout",
     "output_type": "stream",
     "text": [
      "The slowest run took 4.91 times longer than the fastest. This could mean that an intermediate result is being cached \n",
      "1000000 loops, best of 3: 312 ns per loop\n",
      "10000000 loops, best of 3: 66.2 ns per loop\n",
      "The slowest run took 23.44 times longer than the fastest. This could mean that an intermediate result is being cached \n",
      "1000000 loops, best of 3: 436 ns per loop\n",
      "The slowest run took 25.00 times longer than the fastest. This could mean that an intermediate result is being cached \n",
      "1000000 loops, best of 3: 448 ns per loop\n"
     ]
    }
   ],
   "source": [
    "#上でも使ってたけど、pythonの%timeitは簡単に関数の速度を計測してくれる\n",
    "#一行の速度計測するならこれがよろし\n",
    "cv2.setUseOptimized(True)#さっきオフにしたので最適化する\n",
    "x=5\n",
    "%timeit y=x**2\n",
    "%timeit y=x*x\n",
    "\n",
    "z=np.uint8([5])\n",
    "%timeit y=z*z\n",
    "%timeit y=np.square(z)\n",
    "#ノート\n",
    "#numpyよりpythonのスカラ演算のほうが高速だけど、\n",
    "#行列のサイズが大きくなってくるとnumpyのが速い"
   ]
  },
  {
   "cell_type": "code",
   "execution_count": 10,
   "metadata": {
    "collapsed": false
   },
   "outputs": [
    {
     "name": "stdout",
     "output_type": "stream",
     "text": [
      "The slowest run took 8.00 times longer than the fastest. This could mean that an intermediate result is being cached \n",
      "100000 loops, best of 3: 3.06 µs per loop\n",
      "10000 loops, best of 3: 101 µs per loop\n"
     ]
    }
   ],
   "source": [
    "%timeit z = cv2.countNonZero(img1) #単一チャネル画像しか引数に取れないので注意\n",
    "%timeit z = np.count_nonzero(img1)\n",
    "\n",
    "#ノート\n",
    "#たいていopencvのがnumpyより速い場合が多いけど,\n",
    "#そうじゃないこともあり得るから注意、when nupy works with views instead of copiesのいみがわからん\n",
    "#profiling, line profiling, memory mesurementなどpythonの計測用のコマンドいっぱいあるからdocument読んだほうがいいよ\n",
    "#pythonではループは可能な限り避けよう、ベクトル演算に落とし込もう、キャッシュが効くコードにしよう、コピーじゃなくてviewを使おう\n",
    "#それでもだめならcythonだ\n",
    "\n",
    "#viewが何かわかんないからあとで調べよう\n",
    "#additional resourcesも見れたら見る"
   ]
  },
  {
   "cell_type": "code",
   "execution_count": null,
   "metadata": {
    "collapsed": true
   },
   "outputs": [],
   "source": []
  }
 ],
 "metadata": {
  "kernelspec": {
   "display_name": "Python 3",
   "language": "python",
   "name": "python3"
  },
  "language_info": {
   "codemirror_mode": {
    "name": "ipython",
    "version": 3
   },
   "file_extension": ".py",
   "mimetype": "text/x-python",
   "name": "python",
   "nbconvert_exporter": "python",
   "pygments_lexer": "ipython3",
   "version": "3.4.3"
  }
 },
 "nbformat": 4,
 "nbformat_minor": 0
}
